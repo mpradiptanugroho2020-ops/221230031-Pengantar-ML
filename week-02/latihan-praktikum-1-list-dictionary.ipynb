{
  "nbformat": 4,
  "nbformat_minor": 0,
  "metadata": {
    "colab": {
      "provenance": [],
      "authorship_tag": "ABX9TyO+rwHL3hNQWSGXPm+PagV4",
      "include_colab_link": true
    },
    "kernelspec": {
      "name": "python3",
      "display_name": "Python 3"
    },
    "language_info": {
      "name": "python"
    }
  },
  "cells": [
    {
      "cell_type": "markdown",
      "metadata": {
        "id": "view-in-github",
        "colab_type": "text"
      },
      "source": [
        "<a href=\"https://colab.research.google.com/github/mpradiptanugroho2020-ops/221230031-Pengantar-ML/blob/main/week-02/latihan-praktikum-1-list-dictionary.ipynb\" target=\"_parent\"><img src=\"https://colab.research.google.com/assets/colab-badge.svg\" alt=\"Open In Colab\"/></a>"
      ]
    },
    {
      "cell_type": "code",
      "execution_count": 1,
      "metadata": {
        "id": "JxtKyaYK5aS4",
        "colab": {
          "base_uri": "https://localhost:8080/"
        },
        "outputId": "b1332446-ac70-479c-d415-196d07b41f2d"
      },
      "outputs": [
        {
          "output_type": "stream",
          "name": "stdout",
          "text": [
            "✅ List operations completed\n",
            "✅ Dictionary operations completed\n",
            "Filtered data (22–25°C): [23.5, 24.1, 22.8, 24.8, 23.2]\n",
            "Normalized data (0–1 range): [0.48387096774193555, 0.5806451612903228, 0.37096774193548404, 0.774193548387097, 0.22580645161290303, 1.0, 0.0, 0.6935483870967744, 0.4354838709677419, 0.8709677419354838]\n",
            "Moving Average (window=3): [23.46666666666667, 24.066666666666666, 23.333333333333332, 24.633333333333336, 23.03333333333333, 24.0, 22.833333333333332, 24.633333333333336]\n",
            "Grouped data by label:\n",
            "   class_A: [[1.2, 3.4, 2.1], [3.1, 2.8, 1.9]]\n",
            "   class_B: [[2.3, 1.5, 4.2], [4.2, 3.9, 2.5]]\n",
            "Average features per class:\n",
            "   class_A: [2.15 3.1  2.  ]\n",
            "   class_B: [3.25 2.7  3.35]\n"
          ]
        }
      ],
      "source": [
        "# 🏋️ LATIHAN 1: OPERASI LIST DAN DICTIONARY\n",
        "\n",
        "### OPERASI LIST ###\n",
        "\n",
        "'''TODO: Manipulasi Data List untuk Preprocessing'''\n",
        "# Data mentah dari sensor\n",
        "raw_data = [23.5, 24.1, 22.8, 25.3, 21.9, 26.7, 20.5, 24.8, 23.2, 25.9]\n",
        "\n",
        "# TODO 1: Filter data yang berada di range 22-25 derajat\n",
        "filtered_data = [x for x in raw_data if 22 <= x <= 25]\n",
        "\n",
        "# TODO 2: Normalisasi data ke range 0-1 menggunakan min-max scaling\n",
        "min_value = min(raw_data)\n",
        "max_value = max(raw_data)\n",
        "normalized_data = [(x - min_value)/(max_value-min_value) for x in raw_data]\n",
        "\n",
        "# TODO 3: Hitung moving average dengan window size 3\n",
        "def moving_average(data, window_size):\n",
        "    result = []\n",
        "    for i in range(len(data) - window_size + 1):\n",
        "        window = data[i:i + window_size]\n",
        "        average = sum(window) / window_size\n",
        "        result.append(average)\n",
        "    pass\n",
        "    return result\n",
        "\n",
        "ma_result = moving_average(raw_data, 3)\n",
        "\n",
        "assert len(filtered_data) <= len(raw_data), \"Filtered data should not be longer\"\n",
        "assert all(0 <= x <= 1 for x in normalized_data), \"Normalized data should be 0-1\"\n",
        "print(\"✅ List operations completed\")\n",
        "\n",
        "### OPERASI DICTIONARY ###\n",
        "\n",
        "'''TODO: Processing Dataset untuk Machine Learning'''\n",
        "# Dataset sample untuk klasifikasi\n",
        "dataset = [\n",
        "    {'features': [1.2, 3.4, 2.1], 'label': 'class_A'},\n",
        "    {'features': [2.3, 1.5, 4.2], 'label': 'class_B'},\n",
        "    {'features': [3.1, 2.8, 1.9], 'label': 'class_A'},\n",
        "    {'features': [4.2, 3.9, 2.5], 'label': 'class_B'}\n",
        "]\n",
        "\n",
        "# TODO 4: Kelompokkan data berdasarkan label\n",
        "def group_by_label(data):\n",
        "    grouped = {}\n",
        "    for entry in data:\n",
        "        label = entry['label']\n",
        "        if label not in grouped:\n",
        "            grouped[label] = []\n",
        "        grouped[label].append(entry['features'])\n",
        "    return grouped\n",
        "\n",
        "grouped_data = group_by_label(dataset)\n",
        "\n",
        "# TODO 5: Hitung rata-rata features per kelas\n",
        "import numpy as np\n",
        "\n",
        "def average_features_per_class(grouped_data):\n",
        "    avg_features = {}\n",
        "    for label, features in grouped_data.items():\n",
        "        avg_features[label] = np.mean(features, axis=0)\n",
        "    return avg_features\n",
        "\n",
        "avg_features = average_features_per_class(grouped_data)\n",
        "\n",
        "assert 'class_A' in grouped_data, \"Should contain class_A\"\n",
        "assert 'class_B' in grouped_data, \"Should contain class_B\"\n",
        "print(\"✅ Dictionary operations completed\")\n",
        "print(\"Filtered data (22–25°C):\", filtered_data)\n",
        "print(\"Normalized data (0–1 range):\", normalized_data)\n",
        "print(\"Moving Average (window=3):\", ma_result)\n",
        "\n",
        "print(\"Grouped data by label:\")\n",
        "for label, features in grouped_data.items():\n",
        "    print(f\"   {label}: {features}\")\n",
        "\n",
        "print(\"Average features per class:\")\n",
        "for label, avg in avg_features.items():\n",
        "    print(f\"   {label}: {avg}\")"
      ]
    }
  ]
}